{
  "cells": [
    {
      "cell_type": "code",
      "execution_count": 1,
      "metadata": {
        "id": "vwGaPfMKaInR"
      },
      "outputs": [],
      "source": [
        "import tensorflow as tf\n"
      ]
    },
    {
      "cell_type": "code",
      "execution_count": 2,
      "metadata": {
        "colab": {
          "base_uri": "https://localhost:8080/",
          "height": 36
        },
        "id": "srHBnauaafqo",
        "outputId": "7d36e080-f3ad-41fd-ed39-257f107ca7e4"
      },
      "outputs": [
        {
          "output_type": "execute_result",
          "data": {
            "text/plain": [
              "'2.15.0'"
            ],
            "application/vnd.google.colaboratory.intrinsic+json": {
              "type": "string"
            }
          },
          "metadata": {},
          "execution_count": 2
        }
      ],
      "source": [
        "tf.__version__"
      ]
    },
    {
      "cell_type": "code",
      "execution_count": 3,
      "metadata": {
        "colab": {
          "base_uri": "https://localhost:8080/",
          "height": 0
        },
        "id": "XNQh1dOTalJ5",
        "outputId": "313768ed-e276-4f12-bd4f-9fc3b6bee547"
      },
      "outputs": [
        {
          "output_type": "stream",
          "name": "stdout",
          "text": [
            "Drive already mounted at /content/drive; to attempt to forcibly remount, call drive.mount(\"/content/drive\", force_remount=True).\n"
          ]
        }
      ],
      "source": [
        "from google.colab import drive\n",
        "drive.mount(\"/content/drive\")"
      ]
    },
    {
      "cell_type": "code",
      "execution_count": 4,
      "metadata": {
        "colab": {
          "base_uri": "https://localhost:8080/",
          "height": 36
        },
        "id": "OHO1eFS1a0tT",
        "outputId": "e4bf1f12-5434-4852-a140-456bd2364c49"
      },
      "outputs": [
        {
          "output_type": "execute_result",
          "data": {
            "text/plain": [
              "'/content'"
            ],
            "application/vnd.google.colaboratory.intrinsic+json": {
              "type": "string"
            }
          },
          "metadata": {},
          "execution_count": 4
        }
      ],
      "source": [
        "pwd\n"
      ]
    },
    {
      "cell_type": "code",
      "execution_count": 5,
      "metadata": {
        "colab": {
          "base_uri": "https://localhost:8080/",
          "height": 0
        },
        "id": "J5Vkwe6AbGyy",
        "outputId": "33bc13a3-4257-4996-f800-e4a9192a670e"
      },
      "outputs": [
        {
          "output_type": "stream",
          "name": "stdout",
          "text": [
            "/content/drive/MyDrive/DeepLearning\n"
          ]
        }
      ],
      "source": [
        "cd \"/content/drive/MyDrive/DeepLearning\""
      ]
    },
    {
      "cell_type": "code",
      "execution_count": 6,
      "metadata": {
        "id": "0SkYZ6Y7bJGt"
      },
      "outputs": [],
      "source": [
        "link = \"https://d17h27t6h515a5.cloudfront.net/topher/2017/February/5898cd6f_traffic-signs-data/traffic-signs-data.zip\""
      ]
    },
    {
      "cell_type": "code",
      "execution_count": 7,
      "metadata": {
        "colab": {
          "base_uri": "https://localhost:8080/",
          "height": 0
        },
        "id": "m38qbvynbZZC",
        "outputId": "3d864b57-c2dc-4741-878b-eb0d54cd0c30"
      },
      "outputs": [
        {
          "output_type": "stream",
          "name": "stdout",
          "text": [
            "Collecting wget\n",
            "  Downloading wget-3.2.zip (10 kB)\n",
            "  Preparing metadata (setup.py) ... \u001b[?25l\u001b[?25hdone\n",
            "Building wheels for collected packages: wget\n",
            "  Building wheel for wget (setup.py) ... \u001b[?25l\u001b[?25hdone\n",
            "  Created wheel for wget: filename=wget-3.2-py3-none-any.whl size=9656 sha256=eb4e8323675a8a31d52db4094298421842a96560a4ea8798052fa562effd5cff\n",
            "  Stored in directory: /root/.cache/pip/wheels/8b/f1/7f/5c94f0a7a505ca1c81cd1d9208ae2064675d97582078e6c769\n",
            "Successfully built wget\n",
            "Installing collected packages: wget\n",
            "Successfully installed wget-3.2\n"
          ]
        }
      ],
      "source": [
        "!pip install wget"
      ]
    },
    {
      "cell_type": "code",
      "execution_count": 8,
      "metadata": {
        "colab": {
          "base_uri": "https://localhost:8080/",
          "height": 36
        },
        "id": "wEuhp0GRbc0n",
        "outputId": "6f96f5da-7471-4aa6-cd32-8c38721c6e55"
      },
      "outputs": [
        {
          "output_type": "execute_result",
          "data": {
            "text/plain": [
              "'traffic-signs-data (1).zip'"
            ],
            "application/vnd.google.colaboratory.intrinsic+json": {
              "type": "string"
            }
          },
          "metadata": {},
          "execution_count": 8
        }
      ],
      "source": [
        "import wget\n",
        "wget.download(link)"
      ]
    },
    {
      "cell_type": "code",
      "execution_count": 9,
      "metadata": {
        "id": "5tZvzsrsbhSY",
        "colab": {
          "base_uri": "https://localhost:8080/",
          "height": 0
        },
        "outputId": "fbe39c29-8ecb-4e6a-98d8-e0c55d797e3d"
      },
      "outputs": [
        {
          "output_type": "stream",
          "name": "stdout",
          "text": [
            "replace ./test.p? [y]es, [n]o, [A]ll, [N]one, [r]ename: "
          ]
        }
      ],
      "source": [
        "data = \"./\"\n",
        "!unzip -q traffic-signs-data.zip -d $data"
      ]
    },
    {
      "cell_type": "code",
      "execution_count": 10,
      "metadata": {
        "id": "1Tp6WOTybsJP"
      },
      "outputs": [],
      "source": [
        "train_link = data + \"train.p\"\n",
        "test_link = data + \"test.p\"\n",
        "valid_link = data + \"valid.p\""
      ]
    },
    {
      "cell_type": "code",
      "execution_count": 11,
      "metadata": {
        "id": "ieoS_A2Vb9bc"
      },
      "outputs": [],
      "source": [
        "import pickle"
      ]
    },
    {
      "cell_type": "code",
      "execution_count": 12,
      "metadata": {
        "id": "gOeiFoO8b-r9"
      },
      "outputs": [],
      "source": [
        "with open(train_link, mode = \"rb\") as f:\n",
        "  train = pickle.load(f)"
      ]
    },
    {
      "cell_type": "code",
      "execution_count": 13,
      "metadata": {
        "id": "79dFD39hcHam"
      },
      "outputs": [],
      "source": [
        "with open(test_link, mode = \"rb\") as f:\n",
        "  test = pickle.load(f)\n",
        "with open(valid_link, mode = \"rb\") as f:\n",
        "  valid = pickle.load(f)"
      ]
    },
    {
      "cell_type": "code",
      "execution_count": 14,
      "metadata": {
        "colab": {
          "base_uri": "https://localhost:8080/",
          "height": 0
        },
        "id": "58wVb4wQcRGg",
        "outputId": "4b17314a-82f3-455e-bb19-1e74923ba1b4"
      },
      "outputs": [
        {
          "output_type": "execute_result",
          "data": {
            "text/plain": [
              "{'coords': array([[  6,   5,  21,  20],\n",
              "        [  6,   6,  22,  22],\n",
              "        [  5,   6,  22,  23],\n",
              "        ...,\n",
              "        [ 17,  15, 178, 155],\n",
              "        [ 17,  15, 183, 160],\n",
              "        [ 20,  18, 211, 184]], dtype=uint8),\n",
              " 'labels': array([41, 41, 41, ..., 25, 25, 25], dtype=uint8),\n",
              " 'features': array([[[[ 28,  25,  24],\n",
              "          [ 27,  24,  23],\n",
              "          [ 27,  24,  22],\n",
              "          ...,\n",
              "          [ 32,  28,  24],\n",
              "          [ 31,  27,  25],\n",
              "          [ 31,  27,  26]],\n",
              " \n",
              "         [[ 29,  26,  25],\n",
              "          [ 27,  25,  23],\n",
              "          [ 27,  25,  23],\n",
              "          ...,\n",
              "          [ 32,  28,  24],\n",
              "          [ 31,  27,  24],\n",
              "          [ 30,  27,  25]],\n",
              " \n",
              "         [[ 28,  26,  26],\n",
              "          [ 27,  25,  23],\n",
              "          [ 26,  25,  23],\n",
              "          ...,\n",
              "          [ 32,  28,  24],\n",
              "          [ 31,  27,  24],\n",
              "          [ 30,  27,  25]],\n",
              " \n",
              "         ...,\n",
              " \n",
              "         [[ 27,  24,  23],\n",
              "          [ 28,  25,  24],\n",
              "          [ 30,  25,  24],\n",
              "          ...,\n",
              "          [ 27,  24,  23],\n",
              "          [ 28,  24,  22],\n",
              "          [ 29,  25,  22]],\n",
              " \n",
              "         [[ 28,  23,  23],\n",
              "          [ 29,  24,  24],\n",
              "          [ 31,  25,  24],\n",
              "          ...,\n",
              "          [ 27,  24,  23],\n",
              "          [ 28,  24,  22],\n",
              "          [ 28,  24,  21]],\n",
              " \n",
              "         [[ 29,  23,  23],\n",
              "          [ 30,  24,  24],\n",
              "          [ 32,  24,  23],\n",
              "          ...,\n",
              "          [ 27,  24,  22],\n",
              "          [ 27,  23,  21],\n",
              "          [ 26,  22,  20]]],\n",
              " \n",
              " \n",
              "        [[[ 28,  24,  24],\n",
              "          [ 26,  23,  23],\n",
              "          [ 27,  24,  24],\n",
              "          ...,\n",
              "          [ 31,  28,  26],\n",
              "          [ 31,  28,  27],\n",
              "          [ 32,  28,  27]],\n",
              " \n",
              "         [[ 27,  24,  24],\n",
              "          [ 27,  24,  24],\n",
              "          [ 28,  25,  24],\n",
              "          ...,\n",
              "          [ 31,  27,  25],\n",
              "          [ 31,  27,  26],\n",
              "          [ 33,  29,  27]],\n",
              " \n",
              "         [[ 26,  24,  24],\n",
              "          [ 26,  24,  24],\n",
              "          [ 27,  24,  23],\n",
              "          ...,\n",
              "          [ 31,  26,  25],\n",
              "          [ 31,  27,  26],\n",
              "          [ 33,  29,  27]],\n",
              " \n",
              "         ...,\n",
              " \n",
              "         [[ 28,  25,  23],\n",
              "          [ 30,  27,  24],\n",
              "          [ 30,  27,  24],\n",
              "          ...,\n",
              "          [ 27,  24,  22],\n",
              "          [ 27,  24,  22],\n",
              "          [ 28,  24,  22]],\n",
              " \n",
              "         [[ 27,  24,  22],\n",
              "          [ 29,  26,  23],\n",
              "          [ 31,  26,  24],\n",
              "          ...,\n",
              "          [ 26,  23,  21],\n",
              "          [ 27,  24,  22],\n",
              "          [ 28,  25,  23]],\n",
              " \n",
              "         [[ 28,  24,  23],\n",
              "          [ 28,  24,  22],\n",
              "          [ 29,  24,  22],\n",
              "          ...,\n",
              "          [ 27,  23,  22],\n",
              "          [ 27,  24,  23],\n",
              "          [ 29,  26,  25]]],\n",
              " \n",
              " \n",
              "        [[[ 29,  25,  25],\n",
              "          [ 29,  26,  26],\n",
              "          [ 30,  27,  27],\n",
              "          ...,\n",
              "          [ 31,  27,  24],\n",
              "          [ 31,  28,  25],\n",
              "          [ 32,  29,  27]],\n",
              " \n",
              "         [[ 27,  24,  24],\n",
              "          [ 27,  25,  25],\n",
              "          [ 28,  26,  26],\n",
              "          ...,\n",
              "          [ 31,  27,  23],\n",
              "          [ 32,  28,  25],\n",
              "          [ 33,  30,  27]],\n",
              " \n",
              "         [[ 27,  24,  24],\n",
              "          [ 28,  26,  26],\n",
              "          [ 29,  27,  27],\n",
              "          ...,\n",
              "          [ 32,  28,  24],\n",
              "          [ 32,  28,  24],\n",
              "          [ 33,  29,  26]],\n",
              " \n",
              "         ...,\n",
              " \n",
              "         [[ 28,  26,  22],\n",
              "          [ 29,  26,  21],\n",
              "          [ 31,  26,  22],\n",
              "          ...,\n",
              "          [ 29,  24,  21],\n",
              "          [ 28,  23,  20],\n",
              "          [ 28,  23,  22]],\n",
              " \n",
              "         [[ 27,  26,  23],\n",
              "          [ 28,  25,  21],\n",
              "          [ 30,  25,  22],\n",
              "          ...,\n",
              "          [ 28,  23,  21],\n",
              "          [ 27,  22,  20],\n",
              "          [ 28,  24,  22]],\n",
              " \n",
              "         [[ 29,  26,  23],\n",
              "          [ 28,  24,  21],\n",
              "          [ 29,  24,  21],\n",
              "          ...,\n",
              "          [ 29,  25,  23],\n",
              "          [ 28,  24,  22],\n",
              "          [ 30,  26,  24]]],\n",
              " \n",
              " \n",
              "        ...,\n",
              " \n",
              " \n",
              "        [[[ 51,  67,  86],\n",
              "          [ 55,  59,  71],\n",
              "          [ 75,  81,  92],\n",
              "          ...,\n",
              "          [250, 248, 243],\n",
              "          [207, 212, 233],\n",
              "          [121, 116, 140]],\n",
              " \n",
              "         [[ 35,  42,  49],\n",
              "          [ 48,  47,  51],\n",
              "          [ 91,  96, 113],\n",
              "          ...,\n",
              "          [220, 224, 226],\n",
              "          [169, 177, 187],\n",
              "          [ 84,  87, 100]],\n",
              " \n",
              "         [[ 27,  26,  29],\n",
              "          [ 41,  38,  39],\n",
              "          [ 55,  64,  78],\n",
              "          ...,\n",
              "          [122, 143, 160],\n",
              "          [ 97, 104, 129],\n",
              "          [ 59,  59,  56]],\n",
              " \n",
              "         ...,\n",
              " \n",
              "         [[ 24,  23,  27],\n",
              "          [ 21,  20,  27],\n",
              "          [ 20,  19,  22],\n",
              "          ...,\n",
              "          [ 76,  79,  83],\n",
              "          [ 54,  64,  77],\n",
              "          [ 45,  51,  65]],\n",
              " \n",
              "         [[ 31,  31,  33],\n",
              "          [ 22,  23,  29],\n",
              "          [ 20,  18,  21],\n",
              "          ...,\n",
              "          [ 66,  67,  84],\n",
              "          [ 56,  65,  74],\n",
              "          [ 45,  55,  73]],\n",
              " \n",
              "         [[ 28,  28,  30],\n",
              "          [ 22,  21,  25],\n",
              "          [ 19,  18,  19],\n",
              "          ...,\n",
              "          [ 67,  63,  76],\n",
              "          [ 39,  45,  55],\n",
              "          [ 32,  37,  47]]],\n",
              " \n",
              " \n",
              "        [[[ 82,  78,  96],\n",
              "          [120, 126, 148],\n",
              "          [112, 125, 146],\n",
              "          ...,\n",
              "          [185, 182, 177],\n",
              "          [204, 210, 215],\n",
              "          [132, 114, 121]],\n",
              " \n",
              "         [[ 74,  77,  93],\n",
              "          [171, 174, 185],\n",
              "          [137, 164, 184],\n",
              "          ...,\n",
              "          [180, 181, 187],\n",
              "          [198, 200, 213],\n",
              "          [ 79,  85,  85]],\n",
              " \n",
              "         [[ 54,  50,  56],\n",
              "          [100, 106, 118],\n",
              "          [117, 132, 158],\n",
              "          ...,\n",
              "          [157, 153, 160],\n",
              "          [176, 183, 199],\n",
              "          [ 88,  80,  82]],\n",
              " \n",
              "         ...,\n",
              " \n",
              "         [[ 22,  21,  22],\n",
              "          [ 20,  19,  19],\n",
              "          [ 18,  16,  19],\n",
              "          ...,\n",
              "          [ 50,  50,  60],\n",
              "          [ 37,  43,  52],\n",
              "          [ 30,  41,  59]],\n",
              " \n",
              "         [[ 18,  16,  18],\n",
              "          [ 19,  17,  18],\n",
              "          [ 19,  18,  21],\n",
              "          ...,\n",
              "          [ 36,  44,  60],\n",
              "          [ 33,  36,  48],\n",
              "          [ 36,  43,  61]],\n",
              " \n",
              "         [[ 18,  17,  20],\n",
              "          [ 21,  20,  23],\n",
              "          [ 24,  22,  25],\n",
              "          ...,\n",
              "          [ 32,  34,  41],\n",
              "          [ 45,  42,  48],\n",
              "          [ 41,  43,  52]]],\n",
              " \n",
              " \n",
              "        [[[ 69,  79,  96],\n",
              "          [ 24,  26,  28],\n",
              "          [ 40,  42,  45],\n",
              "          ...,\n",
              "          [225, 234, 237],\n",
              "          [151, 161, 166],\n",
              "          [164, 162, 169]],\n",
              " \n",
              "         [[ 99, 110, 125],\n",
              "          [ 36,  41,  47],\n",
              "          [ 63,  56,  62],\n",
              "          ...,\n",
              "          [197, 216, 224],\n",
              "          [154, 163, 169],\n",
              "          [164, 163, 159]],\n",
              " \n",
              "         [[104, 107, 113],\n",
              "          [ 34,  37,  40],\n",
              "          [ 72,  70,  77],\n",
              "          ...,\n",
              "          [223, 237, 235],\n",
              "          [181, 192, 198],\n",
              "          [166, 167, 159]],\n",
              " \n",
              "         ...,\n",
              " \n",
              "         [[ 21,  20,  23],\n",
              "          [ 23,  24,  30],\n",
              "          [ 19,  20,  24],\n",
              "          ...,\n",
              "          [ 45,  47,  54],\n",
              "          [ 58,  62,  70],\n",
              "          [ 58,  70,  82]],\n",
              " \n",
              "         [[ 18,  17,  21],\n",
              "          [ 19,  19,  24],\n",
              "          [ 18,  18,  23],\n",
              "          ...,\n",
              "          [ 36,  36,  40],\n",
              "          [ 58,  59,  70],\n",
              "          [ 61,  69,  81]],\n",
              " \n",
              "         [[ 17,  16,  19],\n",
              "          [ 16,  15,  18],\n",
              "          [ 16,  15,  18],\n",
              "          ...,\n",
              "          [ 40,  40,  44],\n",
              "          [ 57,  62,  73],\n",
              "          [ 57,  68,  80]]]], dtype=uint8),\n",
              " 'sizes': array([[ 26,  25],\n",
              "        [ 27,  27],\n",
              "        [ 27,  28],\n",
              "        ...,\n",
              "        [194, 169],\n",
              "        [201, 175],\n",
              "        [230, 201]], dtype=uint8)}"
            ]
          },
          "metadata": {},
          "execution_count": 14
        }
      ],
      "source": [
        "train"
      ]
    },
    {
      "cell_type": "code",
      "execution_count": 15,
      "metadata": {
        "id": "JdKwhAWtcsXT"
      },
      "outputs": [],
      "source": [
        "trainX = train[\"features\"]\n",
        "trainY = train[\"labels\"]"
      ]
    },
    {
      "cell_type": "code",
      "execution_count": 16,
      "metadata": {
        "id": "ci1wI2CNc8dr"
      },
      "outputs": [],
      "source": [
        "import matplotlib.pyplot as plt"
      ]
    },
    {
      "cell_type": "code",
      "execution_count": 17,
      "metadata": {
        "colab": {
          "base_uri": "https://localhost:8080/",
          "height": 448
        },
        "id": "q6HooB8CdBWM",
        "outputId": "d351f842-8b6c-43c3-b9c6-56e889c0fc03"
      },
      "outputs": [
        {
          "output_type": "execute_result",
          "data": {
            "text/plain": [
              "<matplotlib.image.AxesImage at 0x783693535db0>"
            ]
          },
          "metadata": {},
          "execution_count": 17
        },
        {
          "output_type": "display_data",
          "data": {
            "text/plain": [
              "<Figure size 640x480 with 1 Axes>"
            ],
            "image/png": "[encoded data removed]"
          },
          "metadata": {}
        }
      ],
      "source": [
        "plt.imshow(trainX[0])"
      ]
    },
    {
      "cell_type": "code",
      "execution_count": 18,
      "metadata": {
        "colab": {
          "base_uri": "https://localhost:8080/",
          "height": 0
        },
        "id": "rM8ilOaxdEQF",
        "outputId": "ec624f83-fb56-4ecd-c3ea-5d6ad201185f"
      },
      "outputs": [
        {
          "output_type": "execute_result",
          "data": {
            "text/plain": [
              "41"
            ]
          },
          "metadata": {},
          "execution_count": 18
        }
      ],
      "source": [
        "trainY[0]"
      ]
    },
    {
      "cell_type": "code",
      "execution_count": 19,
      "metadata": {
        "id": "RoZeYboZdMXv"
      },
      "outputs": [],
      "source": [
        "classNames = {0: 'Speed limit (20km/h)',\n",
        " 1: 'Speed limit (30km/h)',\n",
        " 2: 'Speed limit (50km/h)',\n",
        " 3: 'Speed limit (60km/h)',\n",
        " 4: 'Speed limit (70km/h)',\n",
        " 5: 'Speed limit (80km/h)',\n",
        " 6: 'End of speed limit (80km/h)',\n",
        " 7: 'Speed limit (100km/h)',\n",
        " 8: 'Speed limit (120km/h)',\n",
        " 9: 'No passing',\n",
        " 10: 'No passing for vehicles over 3.5 metric tons',\n",
        " 11: 'Right-of-way at the next intersection',\n",
        " 12: 'Priority road',\n",
        " 13: 'Yield',\n",
        " 14: 'Stop',\n",
        " 15: 'No vehicles',\n",
        " 16: 'Vehicles over 3.5 metric tons prohibited',\n",
        " 17: 'No entry',\n",
        " 18: 'General caution',\n",
        " 19: 'Dangerous curve to the left',\n",
        " 20: 'Dangerous curve to the right',\n",
        " 21: 'Double curve',\n",
        " 22: 'Bumpy road',\n",
        " 23: 'Slippery road',\n",
        " 24: 'Road narrows on the right',\n",
        " 25: 'Road work',\n",
        " 26: 'Traffic signals',\n",
        " 27: 'Pedestrians',\n",
        " 28: 'Children crossing',\n",
        " 29: 'Bicycles crossing',\n",
        " 30: 'Beware of ice/snow',\n",
        " 31: 'Wild animals crossing',\n",
        " 32: 'End of all speed and passing limits',\n",
        " 33: 'Turn right ahead',\n",
        " 34: 'Turn left ahead',\n",
        " 35: 'Ahead only',\n",
        " 36: 'Go straight or right',\n",
        " 37: 'Go straight or left',\n",
        " 38: 'Keep right',\n",
        " 39: 'Keep left',\n",
        " 40: 'Roundabout mandatory',\n",
        " 41: 'End of no passing',\n",
        " 42: 'End of no passing by vehicles over 3.5 metric tons'}\n",
        "\n",
        "\n"
      ]
    },
    {
      "cell_type": "code",
      "execution_count": 20,
      "metadata": {
        "colab": {
          "base_uri": "https://localhost:8080/",
          "height": 36
        },
        "id": "C7NQ9FTrdVAM",
        "outputId": "4c759195-4ac6-40fd-82ce-65f7b862df73"
      },
      "outputs": [
        {
          "output_type": "execute_result",
          "data": {
            "text/plain": [
              "'End of no passing'"
            ],
            "application/vnd.google.colaboratory.intrinsic+json": {
              "type": "string"
            }
          },
          "metadata": {},
          "execution_count": 20
        }
      ],
      "source": [
        "classNames[trainY[0]]"
      ]
    },
    {
      "cell_type": "code",
      "execution_count": 21,
      "metadata": {
        "id": "rGmWxJFvdXaB"
      },
      "outputs": [],
      "source": [
        "from sklearn.utils import shuffle"
      ]
    },
    {
      "cell_type": "code",
      "execution_count": 22,
      "metadata": {
        "id": "JE7suBgydmHz"
      },
      "outputs": [],
      "source": [
        "trainX, trainY = shuffle(trainX, trainY)"
      ]
    },
    {
      "cell_type": "code",
      "execution_count": 23,
      "metadata": {
        "id": "MkgNTBQkdqEP"
      },
      "outputs": [],
      "source": [
        "validX = valid[\"features\"]\n",
        "validY = valid[\"labels\"]\n",
        "testX = test[\"features\"]\n",
        "testY = test[\"labels\"]"
      ]
    },
    {
      "cell_type": "code",
      "execution_count": 24,
      "metadata": {
        "id": "V6fubSBpd6AG"
      },
      "outputs": [],
      "source": [
        "trainX = trainX.astype(\"float\") / 255.0\n",
        "validX = validX.astype(\"float\") / 255.0\n",
        "testX = testX.astype(\"float\") / 255.0"
      ]
    },
    {
      "cell_type": "code",
      "execution_count": 25,
      "metadata": {
        "id": "Vl893m7Zd_7D"
      },
      "outputs": [],
      "source": [
        "from sklearn.preprocessing import LabelBinarizer\n"
      ]
    },
    {
      "cell_type": "code",
      "execution_count": 26,
      "metadata": {
        "id": "dW1CmbRgecAw"
      },
      "outputs": [],
      "source": [
        "lb = LabelBinarizer()"
      ]
    },
    {
      "cell_type": "code",
      "execution_count": 27,
      "metadata": {
        "id": "KUxndB1FefLH"
      },
      "outputs": [],
      "source": [
        "trainY = lb.fit_transform(trainY)"
      ]
    },
    {
      "cell_type": "code",
      "execution_count": 28,
      "metadata": {
        "id": "RVOM2OXweih-"
      },
      "outputs": [],
      "source": [
        "validY = lb.fit_transform(validY)"
      ]
    },
    {
      "cell_type": "code",
      "execution_count": 29,
      "metadata": {
        "id": "z7uMWti4Q58X"
      },
      "outputs": [],
      "source": [
        "from tensorflow.keras.models import Model\n",
        "from tensorflow.keras.models import Sequential\n",
        "from tensorflow.keras.layers import BatchNormalization\n",
        "from tensorflow.keras.layers import AveragePooling2D\n",
        "from tensorflow.keras.layers import MaxPooling2D\n",
        "from tensorflow.keras.layers import Conv2D\n",
        "from tensorflow.keras.layers import Activation\n",
        "from tensorflow.keras.layers import Dropout\n",
        "from tensorflow.keras.layers import Flatten\n",
        "from tensorflow.keras.layers import Input\n",
        "from tensorflow.keras.layers import Dense\n",
        "from tensorflow.keras.layers import concatenate\n",
        "from tensorflow.keras.preprocessing.image import ImageDataGenerator\n",
        "from tensorflow.keras.optimizers import SGD"
      ]
    },
    {
      "cell_type": "code",
      "execution_count": 30,
      "metadata": {
        "id": "4otUhRSXe8Bt"
      },
      "outputs": [],
      "source": [
        "model = Sequential()\n",
        "width = 32\n",
        "height = 32\n",
        "classes = 43"
      ]
    },
    {
      "cell_type": "code",
      "source": [
        "shape = (width, height, 3)"
      ],
      "metadata": {
        "id": "Sy3jxZNLX0H_"
      },
      "execution_count": 31,
      "outputs": []
    },
    {
      "cell_type": "code",
      "source": [
        "model.add(Conv2D(32, (3, 3), padding=\"same\", input_shape= shape))"
      ],
      "metadata": {
        "id": "Mt7p3kioX41H"
      },
      "execution_count": 32,
      "outputs": []
    },
    {
      "cell_type": "code",
      "source": [
        "model.add(Activation(\"relu\"))"
      ],
      "metadata": {
        "id": "W395kV_cZMN-"
      },
      "execution_count": 33,
      "outputs": []
    },
    {
      "cell_type": "code",
      "source": [
        "model.add(BatchNormalization())"
      ],
      "metadata": {
        "id": "Kw4F2f9qZS_v"
      },
      "execution_count": 34,
      "outputs": []
    },
    {
      "cell_type": "code",
      "source": [
        "model.add(Conv2D(32, (3, 3), padding=\"same\"))\n",
        "model.add(Activation(\"relu\"))\n",
        "model.add(BatchNormalization())"
      ],
      "metadata": {
        "id": "Kgu_EuSZZkpJ"
      },
      "execution_count": 35,
      "outputs": []
    },
    {
      "cell_type": "code",
      "source": [
        "model.add(MaxPooling2D(pool_size=(2,2)))"
      ],
      "metadata": {
        "id": "6167VBaBacZq"
      },
      "execution_count": 36,
      "outputs": []
    },
    {
      "cell_type": "code",
      "source": [
        "model.add(Conv2D(64, (3, 3), padding=\"same\"))\n",
        "model.add(Activation(\"relu\"))\n",
        "model.add(BatchNormalization())\n",
        "model.add(Conv2D(64, (3, 3), padding=\"same\"))\n",
        "model.add(Activation(\"relu\"))\n",
        "model.add(BatchNormalization())"
      ],
      "metadata": {
        "id": "BgofyDEfbDpi"
      },
      "execution_count": 37,
      "outputs": []
    },
    {
      "cell_type": "code",
      "source": [
        "\n",
        "model.add(MaxPooling2D(pool_size=(2,2)))"
      ],
      "metadata": {
        "id": "f7Sur_CgbuGo"
      },
      "execution_count": 38,
      "outputs": []
    },
    {
      "cell_type": "code",
      "source": [
        "model.add(Flatten())"
      ],
      "metadata": {
        "id": "FtIC53TXcMzj"
      },
      "execution_count": 39,
      "outputs": []
    },
    {
      "cell_type": "code",
      "source": [
        "model.add(Dense(512))"
      ],
      "metadata": {
        "id": "GsURsKa1cfnS"
      },
      "execution_count": 40,
      "outputs": []
    },
    {
      "cell_type": "code",
      "source": [
        "model.add(Activation(\"relu\"))\n",
        "model.add(BatchNormalization())"
      ],
      "metadata": {
        "id": "Kf7HvGxCcji9"
      },
      "execution_count": 41,
      "outputs": []
    },
    {
      "cell_type": "code",
      "source": [
        "model.add(Dense(classes))\n",
        "model.add(Activation(\"softmax\"))"
      ],
      "metadata": {
        "id": "NWJGM0SWcrth"
      },
      "execution_count": 42,
      "outputs": []
    },
    {
      "cell_type": "code",
      "source": [
        "model.summary()"
      ],
      "metadata": {
        "colab": {
          "base_uri": "https://localhost:8080/",
          "height": 0
        },
        "id": "cCR1nH9vYuYz",
        "outputId": "df0d3481-c411-4618-a634-3c9b4da1101c"
      },
      "execution_count": 43,
      "outputs": [
        {
          "output_type": "stream",
          "name": "stdout",
          "text": [
            "Model: \"sequential\"\n",
            "_________________________________________________________________\n",
            " Layer (type)                Output Shape              Param #   \n",
            "=================================================================\n",
            " conv2d (Conv2D)             (None, 32, 32, 32)        896       \n",
            "                                                                 \n",
            " activation (Activation)     (None, 32, 32, 32)        0         \n",
            "                                                                 \n",
            " batch_normalization (Batch  (None, 32, 32, 32)        128       \n",
            " Normalization)                                                  \n",
            "                                                                 \n",
            " conv2d_1 (Conv2D)           (None, 32, 32, 32)        9248      \n",
            "                                                                 \n",
            " activation_1 (Activation)   (None, 32, 32, 32)        0         \n",
            "                                                                 \n",
            " batch_normalization_1 (Bat  (None, 32, 32, 32)        128       \n",
            " chNormalization)                                                \n",
            "                                                                 \n",
            " max_pooling2d (MaxPooling2  (None, 16, 16, 32)        0         \n",
            " D)                                                              \n",
            "                                                                 \n",
            " conv2d_2 (Conv2D)           (None, 16, 16, 64)        18496     \n",
            "                                                                 \n",
            " activation_2 (Activation)   (None, 16, 16, 64)        0         \n",
            "                                                                 \n",
            " batch_normalization_2 (Bat  (None, 16, 16, 64)        256       \n",
            " chNormalization)                                                \n",
            "                                                                 \n",
            " conv2d_3 (Conv2D)           (None, 16, 16, 64)        36928     \n",
            "                                                                 \n",
            " activation_3 (Activation)   (None, 16, 16, 64)        0         \n",
            "                                                                 \n",
            " batch_normalization_3 (Bat  (None, 16, 16, 64)        256       \n",
            " chNormalization)                                                \n",
            "                                                                 \n",
            " max_pooling2d_1 (MaxPoolin  (None, 8, 8, 64)          0         \n",
            " g2D)                                                            \n",
            "                                                                 \n",
            " flatten (Flatten)           (None, 4096)              0         \n",
            "                                                                 \n",
            " dense (Dense)               (None, 512)               2097664   \n",
            "                                                                 \n",
            " activation_4 (Activation)   (None, 512)               0         \n",
            "                                                                 \n",
            " batch_normalization_4 (Bat  (None, 512)               2048      \n",
            " chNormalization)                                                \n",
            "                                                                 \n",
            " dense_1 (Dense)             (None, 43)                22059     \n",
            "                                                                 \n",
            " activation_5 (Activation)   (None, 43)                0         \n",
            "                                                                 \n",
            "=================================================================\n",
            "Total params: 2188107 (8.35 MB)\n",
            "Trainable params: 2186699 (8.34 MB)\n",
            "Non-trainable params: 1408 (5.50 KB)\n",
            "_________________________________________________________________\n"
          ]
        }
      ]
    },
    {
      "cell_type": "code",
      "source": [
        "aug = ImageDataGenerator(rotation_range=0.18, zoom_range=0.15, width_shift_range=0.2, height_shift_range=0.2, horizontal_flip=True)"
      ],
      "metadata": {
        "id": "yWZQNBTZGVFR"
      },
      "execution_count": 44,
      "outputs": []
    },
    {
      "cell_type": "code",
      "source": [
        "learning_rate = 0.01"
      ],
      "metadata": {
        "id": "Jy3bMkEaNEXf"
      },
      "execution_count": 45,
      "outputs": []
    },
    {
      "cell_type": "code",
      "source": [
        "epochs = 10\n",
        "# epoch\n",
        "# Steps\n",
        "#\n",
        "batch_size = 64"
      ],
      "metadata": {
        "id": "rLa8Bh5dNF3Z"
      },
      "execution_count": 46,
      "outputs": []
    },
    {
      "cell_type": "code",
      "source": [
        "opt = SGD(learning_rate=learning_rate, momentum=0.9)"
      ],
      "metadata": {
        "id": "b3HlDauoNHnG"
      },
      "execution_count": 47,
      "outputs": []
    },
    {
      "cell_type": "code",
      "source": [
        "model.compile(optimizer=opt, loss=\"categorical_crossentropy\", metrics=[\"accuracy\"])"
      ],
      "metadata": {
        "id": "pPsqdd8BNJZS"
      },
      "execution_count": 48,
      "outputs": []
    },
    {
      "cell_type": "code",
      "source": [
        "print(\"Start training\")\n",
        "H = model.fit_generator(aug.flow(trainX, trainY, batch_size=batch_size), validation_data=(validX, validY), steps_per_epoch=trainX.shape[0]//batch_size, epochs=epochs, verbose=1)"
      ],
      "metadata": {
        "colab": {
          "base_uri": "https://localhost:8080/",
          "height": 0
        },
        "id": "sAKF-dqLNKvt",
        "outputId": "00d389b0-fd0a-4995-d3dd-3492275aff07"
      },
      "execution_count": 49,
      "outputs": [
        {
          "output_type": "stream",
          "name": "stdout",
          "text": [
            "Start training\n",
            "Epoch 1/10\n"
          ]
        },
        {
          "output_type": "stream",
          "name": "stderr",
          "text": [
            "<ipython-input-49-96a4836c8487>:2: UserWarning: `Model.fit_generator` is deprecated and will be removed in a future version. Please use `Model.fit`, which supports generators.\n",
            "  H = model.fit_generator(aug.flow(trainX, trainY, batch_size=batch_size), validation_data=(validX, validY), steps_per_epoch=trainX.shape[0]//batch_size, epochs=epochs, verbose=1)\n"
          ]
        },
        {
          "output_type": "stream",
          "name": "stdout",
          "text": [
            "543/543 [==============================] - 38s 56ms/step - loss: 1.9700 - accuracy: 0.4307 - val_loss: 1.8120 - val_accuracy: 0.4578\n",
            "Epoch 2/10\n",
            "543/543 [==============================] - 34s 63ms/step - loss: 0.7950 - accuracy: 0.7354 - val_loss: 1.2692 - val_accuracy: 0.6243\n",
            "Epoch 3/10\n",
            "543/543 [==============================] - 32s 58ms/step - loss: 0.4016 - accuracy: 0.8672 - val_loss: 0.8064 - val_accuracy: 0.7651\n",
            "Epoch 4/10\n",
            "543/543 [==============================] - 25s 46ms/step - loss: 0.2377 - accuracy: 0.9231 - val_loss: 1.2094 - val_accuracy: 0.7170\n",
            "Epoch 5/10\n",
            "543/543 [==============================] - 25s 46ms/step - loss: 0.1664 - accuracy: 0.9472 - val_loss: 0.6021 - val_accuracy: 0.8363\n",
            "Epoch 6/10\n",
            "543/543 [==============================] - 26s 49ms/step - loss: 0.1201 - accuracy: 0.9618 - val_loss: 0.6661 - val_accuracy: 0.8363\n",
            "Epoch 7/10\n",
            "543/543 [==============================] - 24s 45ms/step - loss: 0.0930 - accuracy: 0.9701 - val_loss: 0.6113 - val_accuracy: 0.8556\n",
            "Epoch 8/10\n",
            "543/543 [==============================] - 25s 45ms/step - loss: 0.0776 - accuracy: 0.9754 - val_loss: 0.6632 - val_accuracy: 0.8488\n",
            "Epoch 9/10\n",
            "543/543 [==============================] - 25s 45ms/step - loss: 0.0707 - accuracy: 0.9775 - val_loss: 0.5758 - val_accuracy: 0.8608\n",
            "Epoch 10/10\n",
            "543/543 [==============================] - 25s 45ms/step - loss: 0.0582 - accuracy: 0.9815 - val_loss: 0.6205 - val_accuracy: 0.8644\n"
          ]
        }
      ]
    },
    {
      "cell_type": "code",
      "source": [
        "model.save(\"RoadSignalsClassification\")"
      ],
      "metadata": {
        "id": "XKJV68ihNNXO"
      },
      "execution_count": 51,
      "outputs": []
    }
  ],
  "metadata": {
    "colab": {
      "provenance": [],
      "gpuType": "T4"
    },
    "kernelspec": {
      "display_name": "Python 3",
      "name": "python3"
    },
    "language_info": {
      "name": "python"
    },
    "accelerator": "GPU"
  },
  "nbformat": 4,
  "nbformat_minor": 0
}